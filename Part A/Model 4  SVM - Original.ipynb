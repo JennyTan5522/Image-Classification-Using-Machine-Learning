{
 "cells": [
  {
   "cell_type": "markdown",
   "id": "7a17d533",
   "metadata": {},
   "source": [
    "# Model 1: SVM - Original dataset"
   ]
  },
  {
   "cell_type": "code",
   "execution_count": 2,
   "id": "1e023e40",
   "metadata": {},
   "outputs": [],
   "source": [
    "from sklearn import svm\n",
    "from functions import cross_validation\n",
    "from functions import train_predict_ml"
   ]
  },
  {
   "cell_type": "code",
   "execution_count": 3,
   "id": "643f5798",
   "metadata": {},
   "outputs": [],
   "source": [
    "svc=svm.SVC(random_state=42,probability=True)"
   ]
  },
  {
   "cell_type": "markdown",
   "id": "2831469c",
   "metadata": {},
   "source": [
    "### Train-test split and make prediction (Orginal dataset without scaling)"
   ]
  },
  {
   "cell_type": "code",
   "execution_count": null,
   "id": "96e7b53f",
   "metadata": {},
   "outputs": [],
   "source": [
    "train_predict_ml(svc, scale=0)"
   ]
  },
  {
   "cell_type": "markdown",
   "id": "9b849d58",
   "metadata": {},
   "source": [
    "### Cross-validation"
   ]
  },
  {
   "cell_type": "code",
   "execution_count": null,
   "id": "3f06b1b3",
   "metadata": {},
   "outputs": [],
   "source": [
    "cross_validation(svc,scale=0)"
   ]
  }
 ],
 "metadata": {
  "kernelspec": {
   "display_name": "Python 3 (ipykernel)",
   "language": "python",
   "name": "python3"
  },
  "language_info": {
   "codemirror_mode": {
    "name": "ipython",
    "version": 3
   },
   "file_extension": ".py",
   "mimetype": "text/x-python",
   "name": "python",
   "nbconvert_exporter": "python",
   "pygments_lexer": "ipython3",
   "version": "3.9.12"
  }
 },
 "nbformat": 4,
 "nbformat_minor": 5
}
