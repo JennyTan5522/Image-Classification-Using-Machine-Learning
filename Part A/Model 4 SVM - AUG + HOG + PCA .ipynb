{
 "cells": [
  {
   "cell_type": "markdown",
   "id": "3d3bb4af",
   "metadata": {
    "id": "bf08949a"
   },
   "source": [
    "# Model 4: SVM - AUG + HOG + PCA"
   ]
  },
  {
   "cell_type": "code",
   "execution_count": null,
   "id": "e1aeac43",
   "metadata": {
    "collapsed": true,
    "id": "dcdd1527"
   },
   "outputs": [],
   "source": [
    "from sklearn import svm\n",
    "from functions import cross_validation\n",
    "from functions import train_predict_ml"
   ]
  },
  {
   "cell_type": "code",
   "execution_count": null,
   "id": "82c9fcb1",
   "metadata": {
    "collapsed": true,
    "id": "69f1b1c6"
   },
   "outputs": [],
   "source": [
    "svc=svm.SVC(random_state=42,probability=True)"
   ]
  },
  {
   "cell_type": "markdown",
   "id": "46f77c3b",
   "metadata": {
    "id": "2752a5af"
   },
   "source": [
    "### Train-test split and make prediction"
   ]
  },
  {
   "cell_type": "code",
   "execution_count": null,
   "id": "a37e3509",
   "metadata": {
    "collapsed": true,
    "id": "3b112ef1"
   },
   "outputs": [],
   "source": [
    "train_predict_ml(svc, data=\"train_aug_hog_pca.csv\")"
   ]
  },
  {
   "cell_type": "markdown",
   "id": "6556540b",
   "metadata": {
    "id": "5d51a4fd"
   },
   "source": [
    "### Cross-validation"
   ]
  },
  {
   "cell_type": "code",
   "execution_count": null,
   "id": "c61ee191",
   "metadata": {
    "collapsed": true,
    "id": "747d3d9c",
    "scrolled": false
   },
   "outputs": [],
   "source": [
    "cross_validation(svc, data=\"train_aug_hog_pca.csv\")"
   ]
  }
 ],
 "metadata": {
  "colab": {
   "provenance": []
  },
  "kernelspec": {
   "display_name": "Python 3 (ipykernel)",
   "language": "python",
   "name": "python3"
  },
  "language_info": {
   "codemirror_mode": {
    "name": "ipython",
    "version": 3
   },
   "file_extension": ".py",
   "mimetype": "text/x-python",
   "name": "python",
   "nbconvert_exporter": "python",
   "pygments_lexer": "ipython3",
   "version": "3.9.12"
  }
 },
 "nbformat": 4,
 "nbformat_minor": 5
}
