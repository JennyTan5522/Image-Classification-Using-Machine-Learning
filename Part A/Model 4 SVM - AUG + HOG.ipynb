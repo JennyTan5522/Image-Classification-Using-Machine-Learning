{
 "cells": [
  {
   "cell_type": "markdown",
   "id": "bf08949a",
   "metadata": {
    "id": "bf08949a"
   },
   "source": [
    "# Model 4: SVM - AUG + HOG"
   ]
  },
  {
   "cell_type": "code",
   "execution_count": 1,
   "id": "dcdd1527",
   "metadata": {
    "id": "dcdd1527"
   },
   "outputs": [],
   "source": [
    "from sklearn import svm\n",
    "from functions import cross_validation\n",
    "from functions import train_predict_ml"
   ]
  },
  {
   "cell_type": "code",
   "execution_count": 2,
   "id": "69f1b1c6",
   "metadata": {
    "id": "69f1b1c6"
   },
   "outputs": [],
   "source": [
    "svc=svm.SVC(random_state=42,probability=True)"
   ]
  },
  {
   "cell_type": "markdown",
   "id": "2752a5af",
   "metadata": {
    "id": "2752a5af"
   },
   "source": [
    "### Train-test split and make prediction"
   ]
  },
  {
   "cell_type": "code",
   "execution_count": 1,
   "id": "3b112ef1",
   "metadata": {
    "id": "3b112ef1"
   },
   "outputs": [],
   "source": [
    "train_predict_ml(svc, data_train=\"../Data/train_aug_hog.csv\", data_test=\"../Data/test_hog.csv\")"
   ]
  },
  {
   "cell_type": "markdown",
   "id": "5d51a4fd",
   "metadata": {
    "id": "5d51a4fd"
   },
   "source": [
    "### Cross-validation"
   ]
  },
  {
   "cell_type": "code",
   "execution_count": null,
   "id": "747d3d9c",
   "metadata": {
    "id": "747d3d9c",
    "scrolled": false
   },
   "outputs": [],
   "source": [
    "cross_validation(svc, data_train=\"../Data/train_aug_hog.csv\")"
   ]
  }
 ],
 "metadata": {
  "colab": {
   "provenance": []
  },
  "kernelspec": {
   "display_name": "Python 3 (ipykernel)",
   "language": "python",
   "name": "python3"
  },
  "language_info": {
   "codemirror_mode": {
    "name": "ipython",
    "version": 3
   },
   "file_extension": ".py",
   "mimetype": "text/x-python",
   "name": "python",
   "nbconvert_exporter": "python",
   "pygments_lexer": "ipython3",
   "version": "3.9.12"
  }
 },
 "nbformat": 4,
 "nbformat_minor": 5
}
