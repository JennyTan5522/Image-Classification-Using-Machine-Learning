{
 "cells": [
  {
   "cell_type": "markdown",
   "id": "bfcbbdc6",
   "metadata": {
    "id": "bf08949a"
   },
   "source": [
    "# Model 4: SVM - AUG + PCA"
   ]
  },
  {
   "cell_type": "code",
   "execution_count": null,
   "id": "f18f06fc",
   "metadata": {
    "collapsed": true,
    "id": "dcdd1527"
   },
   "outputs": [],
   "source": [
    "from sklearn import svm\n",
    "from functions import cross_validation\n",
    "from functions import train_predict_ml"
   ]
  },
  {
   "cell_type": "code",
   "execution_count": null,
   "id": "c3a5ec81",
   "metadata": {
    "collapsed": true,
    "id": "69f1b1c6"
   },
   "outputs": [],
   "source": [
    "svc=svm.SVC(random_state=42,probability=True)"
   ]
  },
  {
   "cell_type": "markdown",
   "id": "afb625de",
   "metadata": {
    "id": "2752a5af"
   },
   "source": [
    "### Train-test split and make prediction"
   ]
  },
  {
   "cell_type": "code",
   "execution_count": null,
   "id": "ed466206",
   "metadata": {
    "collapsed": true,
    "id": "a065953e"
   },
   "outputs": [],
   "source": [
    "train_predict_ml(svc, data=\"train_aug_pca.csv\")"
   ]
  },
  {
   "cell_type": "markdown",
   "id": "fcecd402",
   "metadata": {
    "id": "dd5823e6"
   },
   "source": [
    "### Cross-validation"
   ]
  },
  {
   "cell_type": "code",
   "execution_count": null,
   "id": "4cfbb25d",
   "metadata": {
    "collapsed": true,
    "id": "c8fde9f7"
   },
   "outputs": [],
   "source": [
    "cross_validation(svc, data=\"train_aug_pca.csv\")"
   ]
  }
 ],
 "metadata": {
  "colab": {
   "provenance": []
  },
  "kernelspec": {
   "display_name": "Python 3 (ipykernel)",
   "language": "python",
   "name": "python3"
  },
  "language_info": {
   "codemirror_mode": {
    "name": "ipython",
    "version": 3
   },
   "file_extension": ".py",
   "mimetype": "text/x-python",
   "name": "python",
   "nbconvert_exporter": "python",
   "pygments_lexer": "ipython3",
   "version": "3.9.12"
  }
 },
 "nbformat": 4,
 "nbformat_minor": 5
}
