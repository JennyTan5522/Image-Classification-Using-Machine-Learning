{
 "cells": [
  {
   "cell_type": "markdown",
   "id": "bf08949a",
   "metadata": {
    "id": "bf08949a"
   },
   "source": [
    "# Model 4: SVM - AUG"
   ]
  },
  {
   "cell_type": "code",
   "execution_count": null,
   "id": "dcdd1527",
   "metadata": {
    "id": "dcdd1527"
   },
   "outputs": [],
   "source": [
    "from sklearn import svm\n",
    "from functions import cross_validation\n",
    "from functions import train_predict_ml"
   ]
  },
  {
   "cell_type": "code",
   "execution_count": null,
   "id": "69f1b1c6",
   "metadata": {
    "id": "69f1b1c6"
   },
   "outputs": [],
   "source": [
    "svc=svm.SVC(random_state=42,probability=True)"
   ]
  },
  {
   "cell_type": "markdown",
   "id": "2752a5af",
   "metadata": {
    "id": "2752a5af"
   },
   "source": [
    "### Train-test split and make prediction"
   ]
  },
  {
   "cell_type": "code",
   "execution_count": null,
   "id": "071fa37a",
   "metadata": {
    "id": "071fa37a"
   },
   "outputs": [],
   "source": [
    "train_predict_ml(svc, data=\"../Data/train_aug.csv\")"
   ]
  },
  {
   "cell_type": "markdown",
   "id": "3cc83c9c",
   "metadata": {
    "id": "3cc83c9c"
   },
   "source": [
    "### Cross-validation"
   ]
  },
  {
   "cell_type": "code",
   "execution_count": null,
   "id": "1fe94d76",
   "metadata": {
    "id": "1fe94d76"
   },
   "outputs": [],
   "source": [
    "cross_validation(svc, data=\"../Data/train_aug.csv\")"
   ]
  }
 ],
 "metadata": {
  "colab": {
   "provenance": []
  },
  "kernelspec": {
   "display_name": "Python 3 (ipykernel)",
   "language": "python",
   "name": "python3"
  },
  "language_info": {
   "codemirror_mode": {
    "name": "ipython",
    "version": 3
   },
   "file_extension": ".py",
   "mimetype": "text/x-python",
   "name": "python",
   "nbconvert_exporter": "python",
   "pygments_lexer": "ipython3",
   "version": "3.9.12"
  }
 },
 "nbformat": 4,
 "nbformat_minor": 5
}
