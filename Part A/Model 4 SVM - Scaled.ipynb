{
 "cells": [
  {
   "cell_type": "markdown",
   "id": "bf08949a",
   "metadata": {
    "id": "bf08949a"
   },
   "source": [
    "# Model 3: SVM - Scaled"
   ]
  },
  {
   "cell_type": "code",
   "execution_count": 1,
   "id": "dcdd1527",
   "metadata": {
    "id": "dcdd1527"
   },
   "outputs": [],
   "source": [
    "from sklearn import svm\n",
    "from functions import cross_validation\n",
    "from functions import train_predict_ml"
   ]
  },
  {
   "cell_type": "code",
   "execution_count": 2,
   "id": "69f1b1c6",
   "metadata": {
    "id": "69f1b1c6"
   },
   "outputs": [],
   "source": [
    "svc=svm.SVC(random_state=42,probability=True)"
   ]
  },
  {
   "cell_type": "markdown",
   "id": "2752a5af",
   "metadata": {
    "id": "2752a5af"
   },
   "source": [
    "### Train-test split and make prediction (original dataset with scaling)"
   ]
  },
  {
   "cell_type": "code",
   "execution_count": null,
   "id": "c06c722f",
   "metadata": {
    "id": "c06c722f"
   },
   "outputs": [],
   "source": [
    "train_predict_ml(svc, scale=1)"
   ]
  },
  {
   "cell_type": "markdown",
   "id": "b9d6c536",
   "metadata": {
    "id": "b9d6c536"
   },
   "source": [
    "### Cross-validation"
   ]
  },
  {
   "cell_type": "code",
   "execution_count": null,
   "id": "26ffd32b",
   "metadata": {
    "id": "26ffd32b"
   },
   "outputs": [],
   "source": [
    "cross_validation(svc, scale=1)"
   ]
  }
 ],
 "metadata": {
  "colab": {
   "provenance": []
  },
  "kernelspec": {
   "display_name": "Python 3 (ipykernel)",
   "language": "python",
   "name": "python3"
  },
  "language_info": {
   "codemirror_mode": {
    "name": "ipython",
    "version": 3
   },
   "file_extension": ".py",
   "mimetype": "text/x-python",
   "name": "python",
   "nbconvert_exporter": "python",
   "pygments_lexer": "ipython3",
   "version": "3.9.12"
  }
 },
 "nbformat": 4,
 "nbformat_minor": 5
}
