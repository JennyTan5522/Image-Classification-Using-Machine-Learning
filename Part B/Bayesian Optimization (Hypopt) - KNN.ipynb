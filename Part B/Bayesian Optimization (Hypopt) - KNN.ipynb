{
 "cells": [
  {
   "cell_type": "code",
   "execution_count": 11,
   "id": "6ae00848",
   "metadata": {},
   "outputs": [],
   "source": [
    "from functions import train_predict_ml, cross_validation, load_data\n",
    "from sklearn.neighbors import KNeighborsClassifier\n",
    "from sklearn.model_selection import cross_val_score\n",
    "from hyperopt import fmin, tpe, Trials, STATUS_OK\n",
    "from hyperopt import hp\n",
    "import lightgbm as lgb\n",
    "import numpy as np\n",
    "import warnings\n",
    "warnings.filterwarnings(\"ignore\")"
   ]
  },
  {
   "cell_type": "code",
   "execution_count": 18,
   "id": "83b6e38b",
   "metadata": {},
   "outputs": [],
   "source": [
    "(X_train, X_test, y_train, y_test) = load_data(data_train=\"../Data/train_hog.csv\", data_test=\"../Data/test_hog.csv\")"
   ]
  },
  {
   "cell_type": "code",
   "execution_count": 13,
   "id": "a417c7b0",
   "metadata": {},
   "outputs": [],
   "source": [
    "y_train=y_train[:1000]"
   ]
  },
  {
   "cell_type": "code",
   "execution_count": 14,
   "id": "959abbb3",
   "metadata": {},
   "outputs": [],
   "source": [
    "X_train=X_train[:1000]"
   ]
  },
  {
   "cell_type": "code",
   "execution_count": 15,
   "id": "8bb991bc",
   "metadata": {},
   "outputs": [
    {
     "data": {
      "text/plain": [
       "(1000, 324)"
      ]
     },
     "execution_count": 15,
     "metadata": {},
     "output_type": "execute_result"
    }
   ],
   "source": [
    "X_train.shape"
   ]
  },
  {
   "cell_type": "markdown",
   "id": "a014e2bb",
   "metadata": {},
   "source": [
    "Original train test split score =  54.3800 %\n",
    "\n",
    "Original CV Acc score =  53.468% %"
   ]
  },
  {
   "cell_type": "code",
   "execution_count": 21,
   "id": "2686d718",
   "metadata": {},
   "outputs": [],
   "source": [
    "space = {\n",
    "        \"algorithm\": hp.choice(\"algorithm\", [\"auto\", \"ball_tree\", \"kd_tree\", \"brute\"]),\n",
    "        \"n_neighbors\": hp.choice(\"n_neighbors\", np.arange(1, 20, dtype=int)),\n",
    "        \"weights\": hp.choice(\"weights\", [\"distance\", \"uniform\"]),\n",
    "        \"metric\": hp.choice(\"metric\", ['minkowski','euclidean','manhattan'])\n",
    "}"
   ]
  },
  {
   "cell_type": "markdown",
   "id": "c5d2f4ed",
   "metadata": {},
   "source": [
    "## Round 1"
   ]
  },
  {
   "cell_type": "code",
   "execution_count": 23,
   "id": "c1951404",
   "metadata": {},
   "outputs": [
    {
     "name": "stdout",
     "output_type": "stream",
     "text": [
      "{'algorithm': 'kd_tree', 'metric': 'euclidean', 'n_neighbors': 16, 'weights': 'distance'}                              \n",
      "loss:                                                                                                                  \n",
      "-0.5502                                                                                                                \n",
      "{'algorithm': 'kd_tree', 'metric': 'euclidean', 'n_neighbors': 6, 'weights': 'uniform'}                                \n",
      "loss:                                                                                                                  \n",
      "-0.53786                                                                                                               \n",
      "{'algorithm': 'auto', 'metric': 'minkowski', 'n_neighbors': 3, 'weights': 'distance'}                                  \n",
      "loss:                                                                                                                  \n",
      "-0.5214000000000001                                                                                                    \n",
      "{'algorithm': 'auto', 'metric': 'minkowski', 'n_neighbors': 8, 'weights': 'uniform'}                                   \n",
      "loss:                                                                                                                  \n",
      "-0.54342                                                                                                               \n",
      "{'algorithm': 'auto', 'metric': 'euclidean', 'n_neighbors': 10, 'weights': 'distance'}                                 \n",
      "loss:                                                                                                                  \n",
      "-0.55012                                                                                                               \n",
      "{'algorithm': 'auto', 'metric': 'euclidean', 'n_neighbors': 15, 'weights': 'uniform'}                                  \n",
      "loss:                                                                                                                  \n",
      "-0.5481199999999999                                                                                                    \n",
      "{'algorithm': 'brute', 'metric': 'minkowski', 'n_neighbors': 14, 'weights': 'uniform'}                                 \n",
      "loss:                                                                                                                  \n",
      "-0.54714                                                                                                               \n",
      "{'algorithm': 'brute', 'metric': 'manhattan', 'n_neighbors': 2, 'weights': 'distance'}                                 \n",
      "loss:                                                                                                                  \n",
      "-0.5263                                                                                                                \n",
      "{'algorithm': 'brute', 'metric': 'euclidean', 'n_neighbors': 14, 'weights': 'distance'}                                \n",
      "loss:                                                                                                                  \n",
      "-0.5512199999999999                                                                                                    \n",
      "{'algorithm': 'ball_tree', 'metric': 'euclidean', 'n_neighbors': 7, 'weights': 'uniform'}                              \n",
      "loss:                                                                                                                  \n",
      "-0.5421400000000001                                                                                                    \n",
      "100%|████████████████████████████████████████████| 10/10 [2:16:44<00:00, 820.42s/trial, best loss: -0.5512199999999999]\n"
     ]
    }
   ],
   "source": [
    "def objective_function(params):\n",
    "    clf = KNeighborsClassifier(**params)\n",
    "    score = cross_val_score(clf, X_train, y_train, cv=4).mean()\n",
    "    print(params, 'loss:', -score)\n",
    "    return {'loss': -score, 'status': STATUS_OK}    \n",
    "    \n",
    "num_eval = 10\n",
    "trials = Trials()\n",
    "best_param = fmin(objective_function, space, algo=tpe.suggest, max_evals=num_eval, trials=trials, rstate=np.random.default_rng(seed=42))"
   ]
  },
  {
   "cell_type": "markdown",
   "id": "a1b4cbcc",
   "metadata": {},
   "source": [
    "## Round 2"
   ]
  },
  {
   "cell_type": "code",
   "execution_count": 22,
   "id": "3923770c",
   "metadata": {},
   "outputs": [
    {
     "name": "stdout",
     "output_type": "stream",
     "text": [
      "{'algorithm': 'kd_tree', 'metric': 'euclidean', 'n_neighbors': 16, 'weights': 'distance'}                              \n",
      "loss:                                                                                                                  \n",
      "-0.5502                                                                                                                \n",
      "{'algorithm': 'kd_tree', 'metric': 'euclidean', 'n_neighbors': 6, 'weights': 'uniform'}                                \n",
      "loss:                                                                                                                  \n",
      "-0.53786                                                                                                               \n",
      "{'algorithm': 'auto', 'metric': 'minkowski', 'n_neighbors': 3, 'weights': 'distance'}                                  \n",
      "loss:                                                                                                                  \n",
      "-0.5214000000000001                                                                                                    \n",
      "{'algorithm': 'auto', 'metric': 'minkowski', 'n_neighbors': 8, 'weights': 'uniform'}                                   \n",
      "loss:                                                                                                                  \n",
      "-0.54342                                                                                                               \n",
      "{'algorithm': 'auto', 'metric': 'euclidean', 'n_neighbors': 10, 'weights': 'distance'}                                 \n",
      "loss:                                                                                                                  \n",
      "-0.55012                                                                                                               \n",
      "100%|████████████████████████████████████████████████████████████| 5/5 [55:49<00:00, 669.82s/trial, best loss: -0.5502]\n"
     ]
    }
   ],
   "source": [
    "def objective_function(params):\n",
    "    clf = KNeighborsClassifier(**params)\n",
    "    score = cross_val_score(clf, X_train, y_train, cv=4).mean()\n",
    "    print(params, 'loss:', -score)\n",
    "    return {'loss': -score, 'status': STATUS_OK}    \n",
    "    \n",
    "num_eval = 5\n",
    "trials = Trials()\n",
    "best_param = fmin(objective_function, space, algo=tpe.suggest, max_evals=num_eval, trials=trials, rstate=np.random.default_rng(seed=42))"
   ]
  },
  {
   "cell_type": "markdown",
   "id": "eca5c82b",
   "metadata": {},
   "source": [
    "## Round 3 - last round (obtained the best)"
   ]
  },
  {
   "cell_type": "code",
   "execution_count": 19,
   "id": "c5e5f3ce",
   "metadata": {
    "scrolled": true
   },
   "outputs": [
    {
     "name": "stdout",
     "output_type": "stream",
     "text": [
      "{'algorithm': 'kd_tree', 'n_neighbors': 16, 'weights': 'distance'}                                                     \n",
      "loss:                                                                                                                  \n",
      "-0.5502                                                                                                                \n",
      "{'algorithm': 'ball_tree', 'n_neighbors': 6, 'weights': 'uniform'}                                                     \n",
      "loss:                                                                                                                  \n",
      "-0.53786                                                                                                               \n",
      "{'algorithm': 'ball_tree', 'n_neighbors': 3, 'weights': 'distance'}                                                    \n",
      "loss:                                                                                                                  \n",
      "-0.5214000000000001                                                                                                    \n",
      "{'algorithm': 'auto', 'n_neighbors': 8, 'weights': 'uniform'}                                                          \n",
      "loss:                                                                                                                  \n",
      "-0.54342                                                                                                               \n",
      "{'algorithm': 'kd_tree', 'n_neighbors': 10, 'weights': 'distance'}                                                     \n",
      "loss:                                                                                                                  \n",
      "-0.55012                                                                                                               \n",
      "{'algorithm': 'ball_tree', 'n_neighbors': 15, 'weights': 'uniform'}                                                    \n",
      "loss:                                                                                                                  \n",
      "-0.5481199999999999                                                                                                    \n",
      "{'algorithm': 'auto', 'n_neighbors': 14, 'weights': 'uniform'}                                                         \n",
      "loss:                                                                                                                  \n",
      "-0.54714                                                                                                               \n",
      "{'algorithm': 'brute', 'n_neighbors': 2, 'weights': 'distance'}                                                        \n",
      "loss:                                                                                                                  \n",
      "-0.49745999999999996                                                                                                   \n",
      "{'algorithm': 'ball_tree', 'n_neighbors': 14, 'weights': 'distance'}                                                   \n",
      "loss:                                                                                                                  \n",
      "-0.5512199999999999                                                                                                    \n",
      "{'algorithm': 'ball_tree', 'n_neighbors': 7, 'weights': 'uniform'}                                                     \n",
      "loss:                                                                                                                  \n",
      "-0.5421400000000001                                                                                                    \n",
      "100%|███████████████████████████████████████████| 10/10 [3:51:28<00:00, 1388.86s/trial, best loss: -0.5512199999999999]\n"
     ]
    }
   ],
   "source": [
    "def objective_function(params):\n",
    "    clf = KNeighborsClassifier(**params)\n",
    "    score = cross_val_score(clf, X_train, y_train, cv=4).mean()\n",
    "    print(params, 'loss:', -score)\n",
    "    return {'loss': -score, 'status': STATUS_OK}    \n",
    "    \n",
    "num_eval = 10\n",
    "trials = Trials()\n",
    "best_param = fmin(objective_function, space, algo=tpe.suggest, max_evals=num_eval, trials=trials, rstate=np.random.default_rng(seed=42))"
   ]
  },
  {
   "cell_type": "markdown",
   "id": "f40ec99f",
   "metadata": {},
   "source": [
    "Best params: {'algorithm': 'ball_tree', 'n_neighbors': 14, 'weights': 'distance'}                                                   \n",
    "loss: -0.5512199999999999                                                                                                           "
   ]
  }
 ],
 "metadata": {
  "kernelspec": {
   "display_name": "Python 3 (ipykernel)",
   "language": "python",
   "name": "python3"
  },
  "language_info": {
   "codemirror_mode": {
    "name": "ipython",
    "version": 3
   },
   "file_extension": ".py",
   "mimetype": "text/x-python",
   "name": "python",
   "nbconvert_exporter": "python",
   "pygments_lexer": "ipython3",
   "version": "3.9.13"
  }
 },
 "nbformat": 4,
 "nbformat_minor": 5
}
