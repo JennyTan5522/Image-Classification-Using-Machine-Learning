{
 "cells": [
  {
   "cell_type": "code",
   "execution_count": 3,
   "id": "6ae00848",
   "metadata": {},
   "outputs": [],
   "source": [
    "from functions import train_predict_ml, cross_validation, load_data\n",
    "from lightgbm import LGBMClassifier\n",
    "from sklearn.model_selection import cross_val_score\n",
    "from hyperopt import fmin, tpe, Trials, STATUS_OK\n",
    "from hyperopt import hp\n",
    "import lightgbm as lgb\n",
    "import numpy as np\n",
    "import warnings\n",
    "warnings.filterwarnings(\"ignore\")"
   ]
  },
  {
   "cell_type": "code",
   "execution_count": 28,
   "id": "83b6e38b",
   "metadata": {},
   "outputs": [],
   "source": [
    "(X_train, X_test, y_train, y_test) = load_data(data_train=\"../Data/train_hog.csv\", data_test=\"../Data/test_hog.csv\")"
   ]
  },
  {
   "cell_type": "code",
   "execution_count": 3,
   "id": "a417c7b0",
   "metadata": {},
   "outputs": [],
   "source": [
    "y_train=y_train[:400]"
   ]
  },
  {
   "cell_type": "code",
   "execution_count": 4,
   "id": "959abbb3",
   "metadata": {},
   "outputs": [],
   "source": [
    "X_train=X_train[:400]"
   ]
  },
  {
   "cell_type": "code",
   "execution_count": 5,
   "id": "8bb991bc",
   "metadata": {},
   "outputs": [
    {
     "data": {
      "text/plain": [
       "(400, 324)"
      ]
     },
     "execution_count": 5,
     "metadata": {},
     "output_type": "execute_result"
    }
   ],
   "source": [
    "X_train.shape"
   ]
  },
  {
   "cell_type": "code",
   "execution_count": 29,
   "id": "2686d718",
   "metadata": {},
   "outputs": [],
   "source": [
    "# space = {\n",
    "#     'num_leaves':  hp.choice('num_leaves', range(50,100)),\n",
    "#     'max_depth':  hp.choice('max_depth', range(3,8)),\n",
    "#     'learning_rate':  hp.uniform('learning_rate', 0.001, 0.1),\n",
    "#     'min_child_samples': hp.choice('min_child_samples',(5,15)),\n",
    "#     'reg_alpha': hp.uniform('reg_alpha',0.05,0.2)\n",
    "# }   \n",
    "space = {\n",
    "    'num_leaves':  hp.choice('num_leaves', range(20,100)),\n",
    "    'max_depth':  hp.choice('max_depth', range(3,15)),\n",
    "    'learning_rate':  hp.uniform('learning_rate', 0.001, 0.1),\n",
    "    'min_child_samples': hp.choice('min_child_samples',(5,15)),\n",
    "    'reg_alpha': hp.uniform('reg_alpha',0.05,0.3)\n",
    "}   "
   ]
  },
  {
   "cell_type": "code",
   "execution_count": 30,
   "id": "c5e5f3ce",
   "metadata": {
    "scrolled": false
   },
   "outputs": [
    {
     "name": "stdout",
     "output_type": "stream",
     "text": [
      "{'learning_rate': 0.0655224975751405, 'max_depth': 8, 'min_child_samples': 15, 'num_leaves': 71, 'reg_alpha': 0.25341385191007193}\n",
      "loss:                                                                                                                  \n",
      "-0.59124                                                                                                               \n",
      "{'learning_rate': 0.006933682719058652, 'max_depth': 14, 'min_child_samples': 15, 'num_leaves': 47, 'reg_alpha': 0.12510533869762708}\n",
      "loss:                                                                                                                  \n",
      "-0.49920000000000003                                                                                                   \n",
      "{'learning_rate': 0.016560790355627814, 'max_depth': 5, 'min_child_samples': 5, 'num_leaves': 43, 'reg_alpha': 0.08674069682125694}\n",
      "loss:                                                                                                                  \n",
      "-0.50594                                                                                                               \n",
      "{'learning_rate': 0.07074154161122963, 'max_depth': 10, 'min_child_samples': 5, 'num_leaves': 31, 'reg_alpha': 0.15094441756549482}\n",
      "loss:                                                                                                                  \n",
      "-0.58566                                                                                                               \n",
      "{'learning_rate': 0.035265741165815705, 'max_depth': 3, 'min_child_samples': 5, 'num_leaves': 61, 'reg_alpha': 0.17572593866537045}\n",
      "loss:                                                                                                                  \n",
      "-0.49704000000000004                                                                                                   \n",
      "{'learning_rate': 0.07259164451997864, 'max_depth': 10, 'min_child_samples': 5, 'num_leaves': 50, 'reg_alpha': 0.23868184006619725}\n",
      "loss:                                                                                                                  \n",
      "-0.5929800000000001                                                                                                    \n",
      "{'learning_rate': 0.0870662357122453, 'max_depth': 5, 'min_child_samples': 15, 'num_leaves': 24, 'reg_alpha': 0.22476964868537708}\n",
      "loss:                                                                                                                  \n",
      "-0.5804600000000001                                                                                                    \n",
      "{'learning_rate': 0.03436099418526572, 'max_depth': 4, 'min_child_samples': 15, 'num_leaves': 83, 'reg_alpha': 0.06607171582738731}\n",
      "loss:                                                                                                                  \n",
      "-0.52096                                                                                                               \n",
      "{'learning_rate': 0.05777263597232907, 'max_depth': 5, 'min_child_samples': 15, 'num_leaves': 46, 'reg_alpha': 0.23082460091859014}\n",
      "loss:                                                                                                                  \n",
      "-0.56574                                                                                                               \n",
      "{'learning_rate': 0.07070927163370692, 'max_depth': 12, 'min_child_samples': 5, 'num_leaves': 57, 'reg_alpha': 0.13125809818386863}\n",
      "loss:                                                                                                                  \n",
      "-0.59622                                                                                                               \n",
      "{'learning_rate': 0.09552326422221999, 'max_depth': 13, 'min_child_samples': 5, 'num_leaves': 62, 'reg_alpha': 0.05867585896420498}\n",
      "loss:                                                                                                                  \n",
      "-0.60016                                                                                                               \n",
      "{'learning_rate': 0.03147265529099494, 'max_depth': 13, 'min_child_samples': 15, 'num_leaves': 33, 'reg_alpha': 0.24527195841597282}\n",
      "loss:                                                                                                                  \n",
      "-0.55558                                                                                                               \n",
      "{'learning_rate': 0.022470097909850356, 'max_depth': 5, 'min_child_samples': 15, 'num_leaves': 47, 'reg_alpha': 0.12079023450752623}\n",
      "loss:                                                                                                                  \n",
      "-0.51912                                                                                                               \n",
      "{'learning_rate': 0.08832788125911313, 'max_depth': 10, 'min_child_samples': 5, 'num_leaves': 70, 'reg_alpha': 0.06685573094852736}\n",
      "loss:                                                                                                                  \n",
      "-0.59808                                                                                                               \n",
      "{'learning_rate': 0.09742084671799878, 'max_depth': 5, 'min_child_samples': 15, 'num_leaves': 20, 'reg_alpha': 0.10811515936739925}\n",
      "loss:                                                                                                                  \n",
      "-0.581                                                                                                                 \n",
      "{'learning_rate': 0.03415114934442002, 'max_depth': 8, 'min_child_samples': 15, 'num_leaves': 52, 'reg_alpha': 0.2688119022872869}\n",
      "loss:                                                                                                                  \n",
      "-0.56612                                                                                                               \n",
      "{'learning_rate': 0.04571094388886241, 'max_depth': 6, 'min_child_samples': 15, 'num_leaves': 92, 'reg_alpha': 0.270566901243658}\n",
      "loss:                                                                                                                  \n",
      "-0.56796                                                                                                               \n",
      "{'learning_rate': 0.09767600511205632, 'max_depth': 13, 'min_child_samples': 5, 'num_leaves': 88, 'reg_alpha': 0.13123725784077744}\n",
      "loss:                                                                                                                  \n",
      "-0.60338                                                                                                               \n",
      "{'learning_rate': 0.04229910613035199, 'max_depth': 7, 'min_child_samples': 15, 'num_leaves': 35, 'reg_alpha': 0.11130338722021653}\n",
      "loss:                                                                                                                  \n",
      "-0.56582                                                                                                               \n",
      "{'learning_rate': 0.02375374380489134, 'max_depth': 11, 'min_child_samples': 15, 'num_leaves': 59, 'reg_alpha': 0.16183089874674544}\n",
      "loss:                                                                                                                  \n",
      "-0.55674                                                                                                               \n",
      "{'learning_rate': 0.09810344102276414, 'max_depth': 13, 'min_child_samples': 5, 'num_leaves': 62, 'reg_alpha': 0.19567953810675515}\n",
      "loss:                                                                                                                  \n",
      "-0.59982                                                                                                               \n",
      "{'learning_rate': 0.08525801545074967, 'max_depth': 13, 'min_child_samples': 5, 'num_leaves': 79, 'reg_alpha': 0.05888234498955924}\n",
      "loss:                                                                                                                  \n",
      "-0.59936                                                                                                               \n",
      "{'learning_rate': 0.09784477057118365, 'max_depth': 9, 'min_child_samples': 5, 'num_leaves': 88, 'reg_alpha': 0.08476152312711233}\n",
      "loss:                                                                                                                  \n",
      "-0.5981                                                                                                                \n",
      "{'learning_rate': 0.07883552100408978, 'max_depth': 13, 'min_child_samples': 5, 'num_leaves': 99, 'reg_alpha': 0.20562113483169206}\n",
      "loss:                                                                                                                  \n",
      "-0.59842                                                                                                               \n",
      "{'learning_rate': 0.08961863982061305, 'max_depth': 13, 'min_child_samples': 5, 'num_leaves': 62, 'reg_alpha': 0.09410156226508073}\n",
      "loss:                                                                                                                  \n",
      "-0.5993599999999999                                                                                                    \n",
      "100%|███████████████████████████████████████████████████████| 25/25 [2:18:14<00:00, 331.77s/trial, best loss: -0.60338]\n"
     ]
    }
   ],
   "source": [
    "def objective_function(params):\n",
    "    clf = LGBMClassifier(**params)\n",
    "    score = cross_val_score(clf, X_train, y_train, cv=4).mean()\n",
    "    print(params, 'loss:', -score)\n",
    "    return {'loss': -score, 'status': STATUS_OK}    \n",
    "    \n",
    "num_eval = 25\n",
    "trials = Trials()\n",
    "best_param = fmin(objective_function, space, algo=tpe.suggest, max_evals=num_eval, trials=trials, rstate=np.random.default_rng(seed=42))"
   ]
  },
  {
   "cell_type": "code",
   "execution_count": 1,
   "id": "02f21f8e",
   "metadata": {},
   "outputs": [],
   "source": [
    "best_param={'learning_rate': 0.09767600511205632, 'max_depth': 13, 'min_child_samples': 5, 'num_leaves': 88, 'reg_alpha': 0.13123725784077744}"
   ]
  },
  {
   "cell_type": "code",
   "execution_count": 4,
   "id": "8195c18c",
   "metadata": {},
   "outputs": [
    {
     "data": {
      "text/plain": [
       "LGBMClassifier(learning_rate=0.09767600511205632, max_depth=13,\n",
       "               min_child_samples=5, num_leaves=88,\n",
       "               reg_alpha=0.13123725784077744)"
      ]
     },
     "execution_count": 4,
     "metadata": {},
     "output_type": "execute_result"
    }
   ],
   "source": [
    "lgbm_tuned = LGBMClassifier(**best_param)\n",
    "lgbm_tuned"
   ]
  }
 ],
 "metadata": {
  "kernelspec": {
   "display_name": "Python 3 (ipykernel)",
   "language": "python",
   "name": "python3"
  },
  "language_info": {
   "codemirror_mode": {
    "name": "ipython",
    "version": 3
   },
   "file_extension": ".py",
   "mimetype": "text/x-python",
   "name": "python",
   "nbconvert_exporter": "python",
   "pygments_lexer": "ipython3",
   "version": "3.9.13"
  }
 },
 "nbformat": 4,
 "nbformat_minor": 5
}
