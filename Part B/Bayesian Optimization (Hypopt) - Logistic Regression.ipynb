{
 "cells": [
  {
   "cell_type": "code",
   "execution_count": 22,
   "id": "6ae00848",
   "metadata": {},
   "outputs": [],
   "source": [
    "from functions import train_predict_ml, cross_validation, load_data\n",
    "from sklearn.linear_model import LogisticRegression\n",
    "from sklearn.model_selection import cross_val_score\n",
    "from hyperopt import fmin, tpe, Trials, STATUS_OK\n",
    "from hyperopt import hp\n",
    "import lightgbm as lgb\n",
    "import numpy as np\n",
    "import warnings\n",
    "warnings.filterwarnings(\"ignore\")"
   ]
  },
  {
   "cell_type": "code",
   "execution_count": 29,
   "id": "83b6e38b",
   "metadata": {},
   "outputs": [],
   "source": [
    "(X_train, X_test, y_train, y_test) = load_data(data_train=\"../Data/train_hog.csv\", data_test=\"../Data/test_hog.csv\")"
   ]
  },
  {
   "cell_type": "code",
   "execution_count": 24,
   "id": "a417c7b0",
   "metadata": {},
   "outputs": [],
   "source": [
    "y_train=y_train[:400]"
   ]
  },
  {
   "cell_type": "code",
   "execution_count": 25,
   "id": "959abbb3",
   "metadata": {},
   "outputs": [],
   "source": [
    "X_train=X_train[:400]"
   ]
  },
  {
   "cell_type": "code",
   "execution_count": 3,
   "id": "8bb991bc",
   "metadata": {},
   "outputs": [
    {
     "data": {
      "text/plain": [
       "(50000, 324)"
      ]
     },
     "execution_count": 3,
     "metadata": {},
     "output_type": "execute_result"
    }
   ],
   "source": [
    "X_train.shape"
   ]
  },
  {
   "cell_type": "code",
   "execution_count": 26,
   "id": "2686d718",
   "metadata": {},
   "outputs": [],
   "source": [
    "#only saga can be l1\n",
    "space= {\n",
    "    \"C\": hp.choice(\"C\", [0.001, 100]),\n",
    "    \"penalty\": hp.choice(\"penalty\", [\"l2\"]),\n",
    "    \"solver\": hp.choice(\"solver\", [\"newton-cg\",\"sag\",\"saga\",\"lbfgs\"]),\n",
    "}"
   ]
  },
  {
   "cell_type": "code",
   "execution_count": 30,
   "id": "c5e5f3ce",
   "metadata": {
    "scrolled": false
   },
   "outputs": [
    {
     "name": "stdout",
     "output_type": "stream",
     "text": [
      "{'C': 100, 'penalty': 'l2', 'solver': 'newton-cg'}                                                                     \n",
      "loss:                                                                                                                  \n",
      "-0.53008                                                                                                               \n",
      "{'C': 0.001, 'penalty': 'l2', 'solver': 'lbfgs'}                                                                       \n",
      "loss:                                                                                                                  \n",
      "-0.42888                                                                                                               \n",
      "{'C': 0.001, 'penalty': 'l2', 'solver': 'newton-cg'}                                                                   \n",
      "loss:                                                                                                                  \n",
      "-0.42884                                                                                                               \n",
      "{'C': 0.001, 'penalty': 'l2', 'solver': 'saga'}                                                                        \n",
      "loss:                                                                                                                  \n",
      "-0.42885999999999996                                                                                                   \n",
      "{'C': 100, 'penalty': 'l2', 'solver': 'sag'}                                                                           \n",
      "loss:                                                                                                                  \n",
      "-0.52998                                                                                                               \n",
      "{'C': 100, 'penalty': 'l2', 'solver': 'saga'}                                                                          \n",
      "loss:                                                                                                                  \n",
      "-0.53016                                                                                                               \n",
      "{'C': 100, 'penalty': 'l2', 'solver': 'saga'}                                                                          \n",
      "loss:                                                                                                                  \n",
      "-0.5302                                                                                                                \n",
      "{'C': 0.001, 'penalty': 'l2', 'solver': 'sag'}                                                                         \n",
      "loss:                                                                                                                  \n",
      "-0.42885999999999996                                                                                                   \n",
      "{'C': 100, 'penalty': 'l2', 'solver': 'newton-cg'}                                                                     \n",
      "loss:                                                                                                                  \n",
      "-0.53008                                                                                                               \n",
      "{'C': 0.001, 'penalty': 'l2', 'solver': 'lbfgs'}                                                                       \n",
      "loss:                                                                                                                  \n",
      "-0.42888                                                                                                               \n",
      "{'C': 0.001, 'penalty': 'l2', 'solver': 'newton-cg'}                                                                   \n",
      "loss:                                                                                                                  \n",
      "-0.42884                                                                                                               \n",
      "{'C': 100, 'penalty': 'l2', 'solver': 'lbfgs'}                                                                         \n",
      "loss:                                                                                                                  \n",
      "-0.52642                                                                                                               \n",
      "{'C': 0.001, 'penalty': 'l2', 'solver': 'sag'}                                                                         \n",
      "loss:                                                                                                                  \n",
      "-0.42891999999999997                                                                                                   \n",
      "{'C': 0.001, 'penalty': 'l2', 'solver': 'saga'}                                                                        \n",
      "loss:                                                                                                                  \n",
      "-0.42888                                                                                                               \n",
      "{'C': 0.001, 'penalty': 'l2', 'solver': 'saga'}                                                                        \n",
      "loss:                                                                                                                  \n",
      "-0.42886                                                                                                               \n",
      "{'C': 100, 'penalty': 'l2', 'solver': 'newton-cg'}                                                                     \n",
      "loss:                                                                                                                  \n",
      "-0.53008                                                                                                               \n",
      "{'C': 100, 'penalty': 'l2', 'solver': 'saga'}                                                                          \n",
      "loss:                                                                                                                  \n",
      "-0.5302                                                                                                                \n",
      "{'C': 0.001, 'penalty': 'l2', 'solver': 'saga'}                                                                        \n",
      "loss:                                                                                                                  \n",
      "-0.42888                                                                                                               \n",
      "{'C': 0.001, 'penalty': 'l2', 'solver': 'lbfgs'}                                                                       \n",
      "loss:                                                                                                                  \n",
      "-0.42888                                                                                                               \n",
      "{'C': 0.001, 'penalty': 'l2', 'solver': 'newton-cg'}                                                                   \n",
      "loss:                                                                                                                  \n",
      "-0.42884                                                                                                               \n",
      "{'C': 100, 'penalty': 'l2', 'solver': 'saga'}                                                                          \n",
      "loss:                                                                                                                  \n",
      "-0.53012                                                                                                               \n",
      "{'C': 100, 'penalty': 'l2', 'solver': 'saga'}                                                                          \n",
      "loss:                                                                                                                  \n",
      "-0.53024                                                                                                               \n",
      "{'C': 100, 'penalty': 'l2', 'solver': 'saga'}                                                                          \n",
      "loss:                                                                                                                  \n",
      "-0.53022                                                                                                               \n",
      "{'C': 100, 'penalty': 'l2', 'solver': 'saga'}                                                                          \n",
      "loss:                                                                                                                  \n",
      "-0.5301                                                                                                                \n",
      "{'C': 100, 'penalty': 'l2', 'solver': 'saga'}                                                                          \n",
      "loss:                                                                                                                  \n",
      "-0.5302800000000001                                                                                                    \n",
      "100%|████████████████████████████████████████████| 25/25 [1:32:21<00:00, 221.65s/trial, best loss: -0.5302800000000001]\n"
     ]
    }
   ],
   "source": [
    "def objective_function(params):\n",
    "    clf = LogisticRegression(**params)\n",
    "    score = cross_val_score(clf, X_train, y_train, cv=4).mean()\n",
    "    print(params, 'loss:', -score)\n",
    "    return {'loss': -score, 'status': STATUS_OK}    \n",
    "    \n",
    "num_eval = 25\n",
    "trials = Trials()\n",
    "best_param = fmin(objective_function, space, algo=tpe.suggest, max_evals=num_eval, trials=trials, rstate=np.random.default_rng(seed=42))"
   ]
  },
  {
   "cell_type": "code",
   "execution_count": 32,
   "id": "7f53ec73",
   "metadata": {},
   "outputs": [],
   "source": [
    "params={'C': 100, 'penalty': 'l2', 'solver': 'saga'}"
   ]
  },
  {
   "cell_type": "code",
   "execution_count": 33,
   "id": "8195c18c",
   "metadata": {},
   "outputs": [
    {
     "data": {
      "text/plain": [
       "LogisticRegression(C=100, solver='saga')"
      ]
     },
     "execution_count": 33,
     "metadata": {},
     "output_type": "execute_result"
    }
   ],
   "source": [
    "lr_t1 = LogisticRegression(**params)\n",
    "lr_t1"
   ]
  }
 ],
 "metadata": {
  "kernelspec": {
   "display_name": "Python 3 (ipykernel)",
   "language": "python",
   "name": "python3"
  },
  "language_info": {
   "codemirror_mode": {
    "name": "ipython",
    "version": 3
   },
   "file_extension": ".py",
   "mimetype": "text/x-python",
   "name": "python",
   "nbconvert_exporter": "python",
   "pygments_lexer": "ipython3",
   "version": "3.9.13"
  }
 },
 "nbformat": 4,
 "nbformat_minor": 5
}
